{
  "cells": [
    {
      "cell_type": "markdown",
      "metadata": {
        "id": "view-in-github",
        "colab_type": "text"
      },
      "source": [
        "<a href=\"https://colab.research.google.com/github/deansaco/Traffic_Sign_Classifier/blob/main/GoogLeNet.ipynb\" target=\"_parent\"><img src=\"https://colab.research.google.com/assets/colab-badge.svg\" alt=\"Open In Colab\"/></a>"
      ]
    },
    {
      "cell_type": "code",
      "execution_count": 1,
      "metadata": {
        "id": "XsMjaTnHJmRZ",
        "colab": {
          "base_uri": "https://localhost:8080/"
        },
        "outputId": "c27af409-40a7-4589-e3ef-08756885e3a6"
      },
      "outputs": [
        {
          "output_type": "stream",
          "name": "stdout",
          "text": [
            "\u001b[?25l\r\u001b[K     |███▍                            | 10 kB 24.5 MB/s eta 0:00:01\r\u001b[K     |██████▊                         | 20 kB 12.4 MB/s eta 0:00:01\r\u001b[K     |██████████                      | 30 kB 9.2 MB/s eta 0:00:01\r\u001b[K     |█████████████▍                  | 40 kB 8.3 MB/s eta 0:00:01\r\u001b[K     |████████████████▊               | 51 kB 4.6 MB/s eta 0:00:01\r\u001b[K     |████████████████████            | 61 kB 5.4 MB/s eta 0:00:01\r\u001b[K     |███████████████████████▍        | 71 kB 5.8 MB/s eta 0:00:01\r\u001b[K     |██████████████████████████▊     | 81 kB 6.4 MB/s eta 0:00:01\r\u001b[K     |██████████████████████████████  | 92 kB 6.1 MB/s eta 0:00:01\r\u001b[K     |████████████████████████████████| 98 kB 3.1 MB/s \n",
            "\u001b[?25h"
          ]
        }
      ],
      "source": [
        "pip install -q -U keras_tuner"
      ]
    },
    {
      "cell_type": "code",
      "source": [
        "import keras\n",
        "import keras.backend as K\n",
        "from keras.models import Model\n",
        "from keras.layers import Input, Dense, Conv2D, Conv3D, DepthwiseConv2D, SeparableConv2D, Conv3DTranspose\n",
        "from keras.layers import Flatten, MaxPool2D, AvgPool2D, GlobalAvgPool2D, UpSampling2D, BatchNormalization\n",
        "from keras.layers import Concatenate, Add, Dropout, ReLU, Lambda, Activation, LeakyReLU, PReLU\n",
        "\n",
        "from IPython.display import SVG\n",
        "from keras.utils.vis_utils import model_to_dot\n",
        "\n",
        "from time import time\n",
        "import numpy as np\n",
        "from glob import glob\n",
        "import os\n",
        "import pickle\n",
        "import math\n",
        "import random\n",
        "import csv\n",
        "from PIL import Image\n",
        "import matplotlib.pyplot as plt\n",
        "import cv2\n",
        "import numpy as np\n",
        "import tensorflow as tf\n",
        "from sklearn.utils import shuffle\n",
        "\n",
        "\n",
        "print('All modules imported.')"
      ],
      "metadata": {
        "id": "hcP6y9-XJrw8",
        "colab": {
          "base_uri": "https://localhost:8080/"
        },
        "outputId": "844bda8b-d638-4f14-c980-63d8fdbd6981"
      },
      "execution_count": 2,
      "outputs": [
        {
          "output_type": "stream",
          "name": "stdout",
          "text": [
            "All modules imported.\n"
          ]
        }
      ]
    },
    {
      "cell_type": "code",
      "source": [
        "#mount zip file for google colab gpu use\n",
        "from google.colab import drive\n",
        "import os\n",
        "\n",
        "# Mount Google Drive\n",
        "drive.mount('/gdrive', force_remount=True)\n",
        "\n",
        "# Location of Zip File\n",
        "drive_path = '/gdrive/MyDrive/Traffic-Sign-Classifier-master.zip'\n",
        "local_path = '/content'\n",
        "\n",
        "# Copy the zip file and move it up one level (AKA out of the drive folder)\n",
        "!cp '{drive_path}' .\n",
        "\n",
        "# Navigate to the copied file and unzip it quietly\n",
        "os.chdir(local_path)\n",
        "!unzip -qq 'Traffic-Sign-Classifier-master.zip'"
      ],
      "metadata": {
        "id": "gixptWuUKIRu",
        "colab": {
          "base_uri": "https://localhost:8080/"
        },
        "outputId": "934d2a88-bd97-4bf7-cbad-2cde4dd2eebe"
      },
      "execution_count": 3,
      "outputs": [
        {
          "output_type": "stream",
          "name": "stdout",
          "text": [
            "Mounted at /gdrive\n"
          ]
        }
      ]
    },
    {
      "cell_type": "markdown",
      "metadata": {
        "id": "IZt3Lqi0JmRg"
      },
      "source": [
        "# 1 Reload the preprocessed data"
      ]
    },
    {
      "cell_type": "code",
      "execution_count": 61,
      "metadata": {
        "scrolled": false,
        "id": "yQgLw-0lJmRk"
      },
      "outputs": [],
      "source": [
        "# 1 Reload the preprocessed data\n",
        "\n",
        "pickle_file = '/content/Traffic-Sign-Classifier-master/traffic-signs-data/pre-data.pickle'\n",
        "with open(pickle_file, 'rb') as f:\n",
        "    pickle_data = pickle.load(f)\n",
        "    X_train = pickle_data['train_features']\n",
        "    y_train = pickle_data['train_labels']\n",
        "    X_valid = pickle_data['valid_features']\n",
        "    y_valid = pickle_data['valid_labels']\n",
        "    X_test = pickle_data['test_features']\n",
        "    y_test = pickle_data['test_labels']\n",
        "    signnames = pickle_data['signnames']\n",
        "    del pickle_data  # Free up memory\n"
      ]
    },
    {
      "cell_type": "code",
      "execution_count": 64,
      "metadata": {
        "id": "SlKFeE4uJmRv"
      },
      "outputs": [],
      "source": [
        "# #convert output into one hot encoded vector\n",
        "y_train = tf.one_hot(y_train, 43)\n",
        "y_valid = tf.one_hot(y_valid, 43)\n",
        "y_test = tf.one_hot(y_test, 43)\n"
      ]
    },
    {
      "cell_type": "markdown",
      "metadata": {
        "id": "apYV1KMEJmR0"
      },
      "source": [
        "# Model Architecture"
      ]
    },
    {
      "cell_type": "markdown",
      "metadata": {
        "id": "0Kh91XEKJmR1"
      },
      "source": [
        "## Inception Block and GoogleNet"
      ]
    },
    {
      "cell_type": "code",
      "execution_count": 87,
      "metadata": {
        "id": "C5zKxkrwJmR2"
      },
      "outputs": [],
      "source": [
        "\n",
        "def create_googlenet(input_shape, n_classes):\n",
        "      \n",
        "      def inception_block(x, f):\n",
        "          \n",
        "          t1 = Conv2D(f[0], 1, activation='relu')(x)\n",
        "\n",
        "          t2 = Conv2D(f[1], 1, activation='relu')(x)\n",
        "          t2 = Conv2D(f[2], 3, padding='same', activation='relu')(t2)\n",
        "\n",
        "          t3 = Conv2D(f[3], 1, activation='relu')(x)\n",
        "          t3 = Conv2D(f[4], 5, padding='same', activation='relu')(t3)\n",
        "\n",
        "          t4 = MaxPool2D(3, 1, padding='same')(x)\n",
        "          t4 = Conv2D(f[5], 1, activation='relu')(t4)\n",
        "\n",
        "          output = Concatenate()([t1, t2, t3, t4])\n",
        "          return output\n",
        "      \n",
        "      input = Input(input_shape) #this is the input to the function\n",
        "    \n",
        "      #x = Conv2D(64, 7, strides=2, padding='same', activation='relu')(input)\n",
        "      #x = MaxPool2D(3, strides=2, padding='same')(x)\n",
        "    \n",
        "      #x = Conv2D(64, 1, activation='relu')(input)\n",
        "      #x = Conv2D(192, 3, padding='same', activation='relu')(input)\n",
        "      #x = MaxPool2D(3, strides=2)(x)\n",
        "\n",
        "      \n",
        "     \n",
        "      \n",
        "      x = Conv2D(64, 3, strides=2, activation='relu')(input)\n",
        "      x = inception_block(x, [64, 96, 128, 16, 32, 32])\n",
        "      x = inception_block(x, [128, 128, 192, 32, 96, 64])\n",
        "      x = MaxPool2D(3, padding='same')(x)\n",
        "\n",
        "      x = inception_block(x, [192, 96, 208, 16, 48, 64])\n",
        "      x = inception_block(x, [160, 112, 224, 24, 64, 64])\n",
        "      x = MaxPool2D(3, padding='same')(x)\n",
        "\n",
        "      x = inception_block(x, [256, 160, 320, 32, 128, 128])\n",
        "      x = inception_block(x, [384, 192, 384, 48, 128, 128])\n",
        "      x = MaxPool2D(3, strides=1, padding='same')(x)\n",
        "\n",
        "      x = inception_block(x, [128, 128, 256, 24, 64, 64])\n",
        "      x = inception_block(x, [112, 144, 288, 32, 64, 64])\n",
        "      x = inception_block(x, [256, 160, 320, 32, 128, 128])\n",
        "      x = MaxPool2D(3, strides=2, padding='same')(x)\n",
        "\n",
        "      x = Dropout(0.5)(x)\n",
        "\n",
        "      x = Flatten()(x)\n",
        "      output = Dense(n_classes, activation='softmax')(x) #this is the output\n",
        "\n",
        "      model = Model(input, output)\n",
        "      \n",
        "      LEARNING_RATE=4e-4\n",
        "      \n",
        "      \n",
        "      opt = tf.keras.optimizers.Adam(learning_rate=LEARNING_RATE, name='Adam')\n",
        "      loss_function=tf.keras.losses.CategoricalCrossentropy(from_logits=True)\n",
        "      model.compile(optimizer=opt,loss=loss_function, metrics=['acc'])\n",
        "      \n",
        "      return model\n"
      ]
    },
    {
      "cell_type": "code",
      "execution_count": null,
      "metadata": {
        "id": "9sAGZ1wKJmR4"
      },
      "outputs": [],
      "source": [
        "input_shape=(32,32,3)\n",
        "n_classes=43\n",
        "googlenet=create_googlenet(input_shape, n_classes)"
      ]
    },
    {
      "cell_type": "code",
      "source": [
        "history = googlenet.fit(X_train, y_train, \n",
        "                         epochs=30, \n",
        "                         batch_size=128,\n",
        "                         validation_data=(X_test, y_test))"
      ],
      "metadata": {
        "colab": {
          "base_uri": "https://localhost:8080/"
        },
        "id": "-zpgsqbuYhCG",
        "outputId": "d6263bc8-1c4e-494b-8928-7d9205d0c13d"
      },
      "execution_count": 92,
      "outputs": [
        {
          "output_type": "stream",
          "name": "stdout",
          "text": [
            "Epoch 1/30\n",
            "272/272 [==============================] - 49s 180ms/step - loss: 0.0169 - acc: 0.9968 - val_loss: 0.2409 - val_acc: 0.9549\n",
            "Epoch 2/30\n",
            "272/272 [==============================] - 49s 180ms/step - loss: 0.0096 - acc: 0.9981 - val_loss: 0.1601 - val_acc: 0.9675\n",
            "Epoch 3/30\n",
            "272/272 [==============================] - 49s 179ms/step - loss: 0.0199 - acc: 0.9965 - val_loss: 0.3238 - val_acc: 0.9546\n",
            "Epoch 4/30\n",
            "272/272 [==============================] - 49s 180ms/step - loss: 0.0242 - acc: 0.9955 - val_loss: 0.2504 - val_acc: 0.9612\n",
            "Epoch 5/30\n",
            "272/272 [==============================] - 49s 180ms/step - loss: 0.0190 - acc: 0.9963 - val_loss: 0.1662 - val_acc: 0.9690\n",
            "Epoch 6/30\n",
            "272/272 [==============================] - 49s 180ms/step - loss: 0.0012 - acc: 0.9996 - val_loss: 0.1878 - val_acc: 0.9729\n",
            "Epoch 7/30\n",
            "272/272 [==============================] - 49s 180ms/step - loss: 0.0012 - acc: 0.9997 - val_loss: 0.2171 - val_acc: 0.9663\n",
            "Epoch 8/30\n",
            "272/272 [==============================] - 50s 185ms/step - loss: 0.0222 - acc: 0.9956 - val_loss: 0.2792 - val_acc: 0.9402\n",
            "Epoch 9/30\n",
            "272/272 [==============================] - 49s 180ms/step - loss: 0.0110 - acc: 0.9975 - val_loss: 0.2802 - val_acc: 0.9534\n",
            "Epoch 10/30\n",
            "272/272 [==============================] - 49s 180ms/step - loss: 0.0092 - acc: 0.9977 - val_loss: 0.1411 - val_acc: 0.9711\n",
            "Epoch 11/30\n",
            "272/272 [==============================] - 49s 180ms/step - loss: 0.0239 - acc: 0.9957 - val_loss: 0.2647 - val_acc: 0.9494\n",
            "Epoch 12/30\n",
            "272/272 [==============================] - 49s 180ms/step - loss: 0.0212 - acc: 0.9953 - val_loss: 0.1995 - val_acc: 0.9654\n",
            "Epoch 13/30\n",
            "272/272 [==============================] - 49s 180ms/step - loss: 0.0086 - acc: 0.9986 - val_loss: 0.3392 - val_acc: 0.9440\n",
            "Epoch 14/30\n",
            "272/272 [==============================] - 50s 185ms/step - loss: 0.0286 - acc: 0.9949 - val_loss: 0.1764 - val_acc: 0.9663\n",
            "Epoch 15/30\n",
            "272/272 [==============================] - 49s 180ms/step - loss: 0.0058 - acc: 0.9987 - val_loss: 0.1406 - val_acc: 0.9777\n",
            "Epoch 16/30\n",
            "272/272 [==============================] - 49s 181ms/step - loss: 0.0114 - acc: 0.9979 - val_loss: 0.2525 - val_acc: 0.9660\n",
            "Epoch 17/30\n",
            "272/272 [==============================] - 49s 180ms/step - loss: 0.0122 - acc: 0.9978 - val_loss: 0.2714 - val_acc: 0.9595\n",
            "Epoch 18/30\n",
            "272/272 [==============================] - 50s 185ms/step - loss: 0.0118 - acc: 0.9978 - val_loss: 0.2438 - val_acc: 0.9669\n",
            "Epoch 19/30\n",
            "272/272 [==============================] - 49s 181ms/step - loss: 0.0040 - acc: 0.9992 - val_loss: 0.1957 - val_acc: 0.9622\n",
            "Epoch 20/30\n",
            "272/272 [==============================] - 50s 185ms/step - loss: 7.3435e-04 - acc: 0.9998 - val_loss: 0.2264 - val_acc: 0.9745\n",
            "Epoch 21/30\n",
            "272/272 [==============================] - 49s 181ms/step - loss: 0.0040 - acc: 0.9993 - val_loss: 0.2084 - val_acc: 0.9724\n",
            "Epoch 22/30\n",
            "272/272 [==============================] - 49s 181ms/step - loss: 0.0061 - acc: 0.9988 - val_loss: 0.1952 - val_acc: 0.9667\n",
            "Epoch 23/30\n",
            "272/272 [==============================] - 49s 181ms/step - loss: 0.0212 - acc: 0.9956 - val_loss: 0.2463 - val_acc: 0.9572\n",
            "Epoch 24/30\n",
            "272/272 [==============================] - 49s 181ms/step - loss: 0.0319 - acc: 0.9951 - val_loss: 0.2516 - val_acc: 0.9660\n",
            "Epoch 25/30\n",
            "272/272 [==============================] - 49s 181ms/step - loss: 0.0109 - acc: 0.9983 - val_loss: 0.2462 - val_acc: 0.9651\n",
            "Epoch 26/30\n",
            "272/272 [==============================] - 49s 181ms/step - loss: 0.0042 - acc: 0.9992 - val_loss: 0.2126 - val_acc: 0.9736\n",
            "Epoch 27/30\n",
            "272/272 [==============================] - 49s 180ms/step - loss: 1.9060e-04 - acc: 0.9999 - val_loss: 0.1834 - val_acc: 0.9724\n",
            "Epoch 28/30\n",
            "272/272 [==============================] - 49s 181ms/step - loss: 0.0166 - acc: 0.9969 - val_loss: 0.1732 - val_acc: 0.9629\n",
            "Epoch 29/30\n",
            "272/272 [==============================] - 49s 181ms/step - loss: 0.0182 - acc: 0.9967 - val_loss: 0.3389 - val_acc: 0.9600\n",
            "Epoch 30/30\n",
            "272/272 [==============================] - 49s 181ms/step - loss: 0.0130 - acc: 0.9975 - val_loss: 0.2480 - val_acc: 0.9584\n"
          ]
        }
      ]
    },
    {
      "cell_type": "markdown",
      "metadata": {
        "id": "wblLtNghJmR8"
      },
      "source": [
        "# 3 Training"
      ]
    },
    {
      "cell_type": "code",
      "source": [
        "plt.plot(history.history['acc'], label='train_accuracy')\n",
        "plt.plot(history.history['val_acc'], label = 'test_accuracy')\n",
        "plt.xlabel('Epoch')\n",
        "plt.ylabel('Accuracy')\n",
        "plt.ylim([0.5, 1])\n",
        "plt.legend(loc='lower right')\n",
        "\n",
        "#evaluate model\n",
        "test_loss, test_accuracy = googlenet.evaluate(X_test, y_test, verbose=2)\n",
        "\n",
        "      \n",
        "print(f'Test Accuracy:', 100*test_accuracy)"
      ],
      "metadata": {
        "colab": {
          "base_uri": "https://localhost:8080/",
          "height": 317
        },
        "id": "Jn6BT-it8VEe",
        "outputId": "1549710f-248b-427a-ec63-c91a0fc2650d"
      },
      "execution_count": 93,
      "outputs": [
        {
          "output_type": "stream",
          "name": "stdout",
          "text": [
            "395/395 - 7s - loss: 0.2480 - acc: 0.9584 - 7s/epoch - 19ms/step\n",
            "Test Accuracy: 95.83531022071838\n"
          ]
        },
        {
          "output_type": "display_data",
          "data": {
            "image/png": "[encoded data removed]",
            "text/plain": [
              "<Figure size 432x288 with 1 Axes>"
            ]
          },
          "metadata": {
            "needs_background": "light"
          }
        }
      ]
    },
    {
      "cell_type": "code",
      "source": [
        "test_loss, test_accuracy = googlenet.evaluate(X_test, y_test)\n",
        "valid_loss, valid_accuracy = googlenet.evaluate(X_valid, y_valid)\n",
        "train_loss, train_accuracy =googlenet.evaluate(X_train, y_train)\n",
        "\n",
        "\n",
        "print(\"restored model, test accuracy: {:5.2f}%\".format(100*test_accuracy))\n",
        "print(\"restored model, validation accuracy: {:5.2f}%\".format(100*valid_accuracy))\n",
        "\n",
        "print(\"restored model, train accuracy: {:5.2f}%\".format(100*train_accuracy))"
      ],
      "metadata": {
        "colab": {
          "base_uri": "https://localhost:8080/"
        },
        "id": "WnAyIcqs9GR-",
        "outputId": "eabfed6d-47c6-4628-b79f-10eba521e3f1"
      },
      "execution_count": 94,
      "outputs": [
        {
          "output_type": "stream",
          "name": "stdout",
          "text": [
            "395/395 [==============================] - 9s 23ms/step - loss: 0.2480 - acc: 0.9584\n",
            "138/138 [==============================] - 3s 23ms/step - loss: 0.1842 - acc: 0.9746\n",
            "1088/1088 [==============================] - 25s 23ms/step - loss: 0.0104 - acc: 0.9977\n",
            "restored model, test accuracy: 95.84%\n",
            "restored model, validation accuracy: 97.46%\n",
            "restored model, train accuracy: 99.77%\n"
          ]
        }
      ]
    },
    {
      "cell_type": "code",
      "source": [
        "for i in range(1,10):\n",
        "    test_image = X_test[i]\n",
        "    array=np.expand_dims(test_image, axis=0)\n",
        "    prediction = googlenet.predict(array)\n",
        "    prediction= (np.argmax(prediction))\n",
        "    print(\"predicted sign:\", signnames[prediction])    \n",
        "    test_label= y_test[i]\n",
        "    arr=np.expand_dims(test_label, axis=0)\n",
        "    truth= (np.argmax(arr))\n",
        "    plt.figure(figsize=(12,12))\n",
        "    # define subplot\n",
        "    plt.subplot(5, 5, i+1)\n",
        "    # plot raw pixel data\n",
        "    plt.imshow(test_image, cmap=plt.get_cmap('gray'))\n",
        "    # show the figure\n",
        "    plt.show()\n",
        "    print(\"real sign:\", signnames[truth])\n",
        "    print('\\n')\n",
        "    print('\\n')"
      ],
      "metadata": {
        "colab": {
          "base_uri": "https://localhost:8080/",
          "height": 1000
        },
        "id": "dDCxu3fB80n7",
        "outputId": "ea3e662b-3d85-4389-ae1f-d0478a6db8fa"
      },
      "execution_count": 95,
      "outputs": [
        {
          "output_type": "stream",
          "name": "stdout",
          "text": [
            "predicted sign: Speed limit (30km/h)\n"
          ]
        },
        {
          "output_type": "display_data",
          "data": {
            "image/png": "[encoded data removed]",
            "text/plain": [
              "<Figure size 864x864 with 1 Axes>"
            ]
          },
          "metadata": {
            "needs_background": "light"
          }
        },
        {
          "output_type": "stream",
          "name": "stdout",
          "text": [
            "real sign: Speed limit (30km/h)\n",
            "\n",
            "\n",
            "\n",
            "\n",
            "predicted sign: Keep right\n"
          ]
        },
        {
          "output_type": "display_data",
          "data": {
            "image/png": "[encoded data removed]",
            "text/plain": [
              "<Figure size 864x864 with 1 Axes>"
            ]
          },
          "metadata": {
            "needs_background": "light"
          }
        },
        {
          "output_type": "stream",
          "name": "stdout",
          "text": [
            "real sign: Keep right\n",
            "\n",
            "\n",
            "\n",
            "\n",
            "predicted sign: Turn right ahead\n"
          ]
        },
        {
          "output_type": "display_data",
          "data": {
            "image/png": "[encoded data removed]",
            "text/plain": [
              "<Figure size 864x864 with 1 Axes>"
            ]
          },
          "metadata": {
            "needs_background": "light"
          }
        },
        {
          "output_type": "stream",
          "name": "stdout",
          "text": [
            "real sign: Turn right ahead\n",
            "\n",
            "\n",
            "\n",
            "\n",
            "predicted sign: Right-of-way at the next intersection\n"
          ]
        },
        {
          "output_type": "display_data",
          "data": {
            "image/png": "[encoded data removed]",
            "text/plain": [
              "<Figure size 864x864 with 1 Axes>"
            ]
          },
          "metadata": {
            "needs_background": "light"
          }
        },
        {
          "output_type": "stream",
          "name": "stdout",
          "text": [
            "real sign: Right-of-way at the next intersection\n",
            "\n",
            "\n",
            "\n",
            "\n",
            "predicted sign: Keep right\n"
          ]
        },
        {
          "output_type": "display_data",
          "data": {
            "image/png": "[encoded data removed]",
            "text/plain": [
              "<Figure size 864x864 with 1 Axes>"
            ]
          },
          "metadata": {
            "needs_background": "light"
          }
        },
        {
          "output_type": "stream",
          "name": "stdout",
          "text": [
            "real sign: Keep right\n",
            "\n",
            "\n",
            "\n",
            "\n",
            "predicted sign: General caution\n"
          ]
        },
        {
          "output_type": "display_data",
          "data": {
            "image/png": "[encoded data removed]",
            "text/plain": [
              "<Figure size 864x864 with 1 Axes>"
            ]
          },
          "metadata": {
            "needs_background": "light"
          }
        },
        {
          "output_type": "stream",
          "name": "stdout",
          "text": [
            "real sign: General caution\n",
            "\n",
            "\n",
            "\n",
            "\n",
            "predicted sign: Priority road\n"
          ]
        },
        {
          "output_type": "display_data",
          "data": {
            "image/png": "[encoded data removed]",
            "text/plain": [
              "<Figure size 864x864 with 1 Axes>"
            ]
          },
          "metadata": {
            "needs_background": "light"
          }
        },
        {
          "output_type": "stream",
          "name": "stdout",
          "text": [
            "real sign: Priority road\n",
            "\n",
            "\n",
            "\n",
            "\n",
            "predicted sign: Road work\n"
          ]
        },
        {
          "output_type": "display_data",
          "data": {
            "image/png": "[encoded data removed]",
            "text/plain": [
              "<Figure size 864x864 with 1 Axes>"
            ]
          },
          "metadata": {
            "needs_background": "light"
          }
        },
        {
          "output_type": "stream",
          "name": "stdout",
          "text": [
            "real sign: Road work\n",
            "\n",
            "\n",
            "\n",
            "\n",
            "predicted sign: Ahead only\n"
          ]
        },
        {
          "output_type": "display_data",
          "data": {
            "image/png": "[encoded data removed]",
            "text/plain": [
              "<Figure size 864x864 with 1 Axes>"
            ]
          },
          "metadata": {
            "needs_background": "light"
          }
        },
        {
          "output_type": "stream",
          "name": "stdout",
          "text": [
            "real sign: Ahead only\n",
            "\n",
            "\n",
            "\n",
            "\n"
          ]
        }
      ]
    }
  ],
  "metadata": {
    "kernelspec": {
      "display_name": "Python 3",
      "language": "python",
      "name": "python3"
    },
    "language_info": {
      "codemirror_mode": {
        "name": "ipython",
        "version": 3
      },
      "file_extension": ".py",
      "mimetype": "text/x-python",
      "name": "python",
      "nbconvert_exporter": "python",
      "pygments_lexer": "ipython3",
      "version": "3.8.8"
    },
    "colab": {
      "name": "GoogLeNet.ipynb",
      "provenance": [],
      "collapsed_sections": [],
      "include_colab_link": true
    },
    "accelerator": "GPU"
  },
  "nbformat": 4,
  "nbformat_minor": 0
}
